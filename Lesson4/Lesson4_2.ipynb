{
 "cells": [
  {
   "cell_type": "code",
   "execution_count": 10,
   "metadata": {},
   "outputs": [
    {
     "name": "stdout",
     "output_type": "stream",
     "text": [
      "丁\n"
     ]
    }
   ],
   "source": [
    "try:\n",
    "    score=int(input(\"請輸入分數\"))\n",
    "    if score>100:\n",
    "        raise Exception\n",
    "    if score<0:\n",
    "        raise Exception\n",
    "    \n",
    "    if 90<= score <= 100:\n",
    "        print(\"優\")\n",
    "    if 80<= score <=89:\n",
    "        print(\"甲\")\n",
    "    if 70<= score<= 79:\n",
    "        print(\"乙\")\n",
    "    if 60 <=score <=69:\n",
    "        print(\"丙\")\n",
    "    if 0<= score<= 59:\n",
    "        print(\"丁\")\n",
    "except ValueError:\n",
    "    print(\"格式錯誤\")\n",
    "except Exception:\n",
    "    print(\"超出範圍\")\n"
   ]
  },
  {
   "cell_type": "code",
   "execution_count": 13,
   "metadata": {},
   "outputs": [
    {
     "name": "stdout",
     "output_type": "stream",
     "text": [
      "該學生的分數等級為『甲』\n"
     ]
    }
   ],
   "source": [
    "score=int(input(\"請輸入分數\"))\n",
    "if score >= 90:\n",
    "    grage = \"優\"\n",
    "elif score >= 80:\n",
    "    grade = \"甲\"\n",
    "elif score >= 70:\n",
    "    grade= \"乙\"\n",
    "elif score >= 60:\n",
    "    grade = \"丙\"\n",
    "else:\n",
    "    grade = \"丁\"\n",
    "\n",
    "print(f'該學生的分數等級為『{grade}』')"
   ]
  },
  {
   "cell_type": "code",
   "execution_count": 36,
   "metadata": {},
   "outputs": [
    {
     "name": "stdout",
     "output_type": "stream",
     "text": [
      "您好可可，您的BMI值為24.44，您目前屬於過重\n"
     ]
    }
   ],
   "source": [
    "try:\n",
    "    heigh = float(input(\"請輸入您的身高\"))\n",
    "    if  heigh<0:\n",
    "        raise Exception\n",
    "    Weight = float(input(\"請輸入您的體重\"))\n",
    "    if  Weight<0:\n",
    "        raise Exception\n",
    "    Name= str(input(\"請輸入您的姓名\"))\n",
    "    BMI = float(round(Weight/((heigh/100)**2),ndigits=2))\n",
    "    \n",
    "    if BMI>=35:\n",
    "        level=\"重度肥胖\"\n",
    "    elif 35>BMI>=30:\n",
    "        level=\"中度肥胖\"\n",
    "    elif 30 >BMI>=27:\n",
    "        level=\"輕度肥胖\"\n",
    "    elif 27> BMI>=24:\n",
    "        level=\"過重\"\n",
    "    elif 24>BMI>=18.5:\n",
    "        level=\"正常範圍\"\n",
    "    else:\n",
    "        level=\"體重過輕\"\n",
    "    \n",
    "\n",
    "    print(f'您好{Name}，您的BMI值為{BMI}，您目前屬於{level}')\n",
    "except ValueError:\n",
    "    print(\"格式錯誤\")\n",
    "except Exception:\n",
    "    print(\"超出範圍\")"
   ]
  }
 ],
 "metadata": {
  "kernelspec": {
   "display_name": "Python 3",
   "language": "python",
   "name": "python3"
  },
  "language_info": {
   "codemirror_mode": {
    "name": "ipython",
    "version": 3
   },
   "file_extension": ".py",
   "mimetype": "text/x-python",
   "name": "python",
   "nbconvert_exporter": "python",
   "pygments_lexer": "ipython3",
   "version": "3.11.9"
  }
 },
 "nbformat": 4,
 "nbformat_minor": 2
}
