{
 "cells": [
  {
   "cell_type": "code",
   "execution_count": 1,
   "metadata": {},
   "outputs": [
    {
     "name": "stdout",
     "output_type": "stream",
     "text": [
      "100,150的公因數：\n",
      "1 2 5 10 25 50 "
     ]
    }
   ],
   "source": [
    "value1=int(input(\"請輸入第一個數值\"))\n",
    "value2=int(input(\"請輸入第二個數值\"))  \n",
    "\n",
    "(min,max)=(value1, value2) if value1>value2 else (value2, value1)\n",
    "print(f'{value1},{value2}的公因數：')\n",
    "\n",
    "for n in  range(1, min+1):\n",
    "    if max % n== 0 and min % n ==0:\n",
    "        print(n, end=\" \")"
   ]
  },
  {
   "cell_type": "code",
   "execution_count": null,
   "metadata": {},
   "outputs": [],
   "source": [
    "total=0\n",
    "i=1\n",
    "while i<=10:\n",
    "    total+=i\n",
    "    i+=1\n",
    "print(f'total={total}\\n結束')"
   ]
  },
  {
   "cell_type": "code",
   "execution_count": 5,
   "metadata": {},
   "outputs": [
    {
     "name": "stdout",
     "output_type": "stream",
     "text": [
      "你已經存了6個月，共存了36000元\n"
     ]
    }
   ],
   "source": [
    "deposit=0\n",
    "month=0\n",
    "while deposit<30000:\n",
    "   month+=1\n",
    "   money= int( input(f\"請輸入第{month}月份的存款：\"))\n",
    "   deposit+=money\n",
    "print(f\"你已經存了{month}個月，共存了{deposit}元\")"
   ]
  },
  {
   "cell_type": "code",
   "execution_count": 7,
   "metadata": {},
   "outputs": [
    {
     "name": "stdout",
     "output_type": "stream",
     "text": [
      "Coco\n",
      "應用程式結束\n"
     ]
    }
   ],
   "source": [
    "stuff=input(\"請輸入英文字『按q會離開』\")\n",
    "while not stuff==\"q\":\n",
    "        print(stuff.capitalize())\n",
    "        stuff=input(\"請輸入英文字『按q會離開』\")\n",
    "print(\"應用程式結束\")\n"
   ]
  },
  {
   "cell_type": "code",
   "execution_count": 4,
   "metadata": {},
   "outputs": [
    {
     "name": "stdout",
     "output_type": "stream",
     "text": [
      "\n",
      "Coco\n",
      "Yeh\n",
      "Apple\n",
      "Banana\n"
     ]
    }
   ],
   "source": [
    "while True:\n",
    "    stuff=input(\"請輸入英文字『按q會離開』\")\n",
    "    if stuff==\"q\":\n",
    "        break\n",
    "    print(stuff.capitalize())\n",
    "print(\"應用程式結束\")"
   ]
  }
 ],
 "metadata": {
  "kernelspec": {
   "display_name": "Python 3",
   "language": "python",
   "name": "python3"
  },
  "language_info": {
   "codemirror_mode": {
    "name": "ipython",
    "version": 3
   },
   "file_extension": ".py",
   "mimetype": "text/x-python",
   "name": "python",
   "nbconvert_exporter": "python",
   "pygments_lexer": "ipython3",
   "version": "3.11.9"
  }
 },
 "nbformat": 4,
 "nbformat_minor": 2
}
