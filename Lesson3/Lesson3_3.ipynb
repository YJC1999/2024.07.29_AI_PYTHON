{
 "cells": [
  {
   "cell_type": "code",
   "execution_count": 8,
   "metadata": {},
   "outputs": [
    {
     "name": "stdout",
     "output_type": "stream",
     "text": [
      "20.0台斤=20.0公斤\n",
      "20.0台斤=12.0公斤\n"
     ]
    }
   ],
   "source": [
    "kg_Taiwan = float(input(\"請輸入台斤：\"))\n",
    "kg = kg_Taiwan*0.6\n",
    "print(str(kg_Taiwan)+\"台斤=\"+ str(Kg)+\"公斤\")\n",
    "print(f'{kg_Taiwan}台斤={kg}公斤')"
   ]
  },
  {
   "cell_type": "code",
   "execution_count": 18,
   "metadata": {},
   "outputs": [
    {
     "name": "stdout",
     "output_type": "stream",
     "text": [
      "可可您好：您的BMI值是：24.44\n"
     ]
    }
   ],
   "source": [
    "heigh = float(input(\"請輸入您的身高\"))\n",
    "Weight = float(input(\"請輸入您的體重\"))\n",
    "Name= str(input(\"請輸入您的姓名\"))\n",
    "BMI = round(Weight/((heigh/100)**2),ndigits=2)\n",
    "print(f'{Name}您好：您的BMI值是：{BMI}')"
   ]
  }
 ],
 "metadata": {
  "kernelspec": {
   "display_name": "Python 3",
   "language": "python",
   "name": "python3"
  },
  "language_info": {
   "codemirror_mode": {
    "name": "ipython",
    "version": 3
   },
   "file_extension": ".py",
   "mimetype": "text/x-python",
   "name": "python",
   "nbconvert_exporter": "python",
   "pygments_lexer": "ipython3",
   "version": "3.11.9"
  }
 },
 "nbformat": 4,
 "nbformat_minor": 2
}
