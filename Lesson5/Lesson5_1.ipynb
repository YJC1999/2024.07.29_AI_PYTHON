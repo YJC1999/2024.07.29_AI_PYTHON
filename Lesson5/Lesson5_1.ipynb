{
 "cells": [
  {
   "cell_type": "code",
   "execution_count": 3,
   "metadata": {},
   "outputs": [
    {
     "name": "stdout",
     "output_type": "stream",
     "text": [
      "獎金：0\n"
     ]
    }
   ],
   "source": [
    "Chinese =int(input(\"請輸入國文成績\"))\n",
    "Math = int(input(\"請輸入數學成績\"))\n",
    "\n",
    "if Chinese ==100 and Math ==100:\n",
    "    Bonus=10000\n",
    "elif Chinese ==100 or Math ==100:\n",
    "    Bonus=500\n",
    "else:\n",
    "    Bonus=0\n",
    "\n",
    "print(f'獎金：{Bonus}')\n",
    "\n"
   ]
  },
  {
   "cell_type": "code",
   "execution_count": 6,
   "metadata": {},
   "outputs": [
    {
     "name": "stdout",
     "output_type": "stream",
     "text": [
      "血壓正常\n"
     ]
    }
   ],
   "source": [
    "presure= int(input(\"請輸入血壓\"))\n",
    "\n",
    "if 80<= presure<=120:\n",
    "    print(\"血壓正常\")\n",
    "else:\n",
    "    print(\"血壓不正常\")"
   ]
  }
 ],
 "metadata": {
  "kernelspec": {
   "display_name": "Python 3",
   "language": "python",
   "name": "python3"
  },
  "language_info": {
   "codemirror_mode": {
    "name": "ipython",
    "version": 3
   },
   "file_extension": ".py",
   "mimetype": "text/x-python",
   "name": "python",
   "nbconvert_exporter": "python",
   "pygments_lexer": "ipython3",
   "version": "3.11.9"
  }
 },
 "nbformat": 4,
 "nbformat_minor": 2
}
